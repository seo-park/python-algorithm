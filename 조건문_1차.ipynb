{
 "cells": [
  {
   "cell_type": "code",
   "execution_count": 5,
   "metadata": {},
   "outputs": [
    {
     "name": "stdout",
     "output_type": "stream",
     "text": [
      "==\n"
     ]
    }
   ],
   "source": [
    "#1330\n",
    "\n",
    "A, B = map(int, input().split())\n",
    "if A>B :\n",
    "    print(\">\")\n",
    "elif A<B :\n",
    "    print(\"<\")\n",
    "else :\n",
    "    print(\"==\")"
   ]
  },
  {
   "cell_type": "code",
   "execution_count": 6,
   "metadata": {},
   "outputs": [
    {
     "name": "stdout",
     "output_type": "stream",
     "text": [
      "F\n"
     ]
    }
   ],
   "source": [
    "#9498\n",
    "\n",
    "score = int(input())\n",
    "if 90<=score<=100 :\n",
    "    print(\"A\")\n",
    "elif 80<=score<=89 :\n",
    "    print(\"B\")\n",
    "elif 70<=score<=79 :\n",
    "    print(\"C\")\n",
    "elif 60<=score<=69 :\n",
    "    print(\"D\")\n",
    "else :\n",
    "    print(\"F\")"
   ]
  },
  {
   "cell_type": "code",
   "execution_count": null,
   "metadata": {},
   "outputs": [],
   "source": [
    "#2753\n",
    "\n",
    "year = int(input())\n",
    "if year%4==0 and year%100!=0 or year%400==0 :\n",
    "    print(\"1\")\n",
    "else :\n",
    "    print(\"0\")"
   ]
  },
  {
   "cell_type": "code",
   "execution_count": 12,
   "metadata": {},
   "outputs": [
    {
     "name": "stdout",
     "output_type": "stream",
     "text": [
      "1\n"
     ]
    }
   ],
   "source": [
    "#14681\n",
    "\n",
    "x = int(input())\n",
    "y = int(input())\n",
    "\n",
    "if x>0 and y>0 :\n",
    "    print(\"1\")\n",
    "elif x<0 and y>0 :\n",
    "    print(\"2\")\n",
    "elif x<0 and y<0 :\n",
    "    print(\"3\")\n",
    "else :\n",
    "    print(\"4\")"
   ]
  },
  {
   "cell_type": "code",
   "execution_count": 21,
   "metadata": {},
   "outputs": [
    {
     "name": "stdout",
     "output_type": "stream",
     "text": [
      "4 10\n"
     ]
    }
   ],
   "source": [
    "#2884\n",
    "\n",
    "h, m = map(int, input().split())\n",
    "\n",
    "if m>44 :\n",
    "    print(h, m-45)\n",
    "elif m<=44 and h>0 :\n",
    "    print(h-1, m+15)\n",
    "else :\n",
    "    print(23, m+15)"
   ]
  }
 ],
 "metadata": {
  "kernelspec": {
   "display_name": "Python 3.10.6 64-bit",
   "language": "python",
   "name": "python3"
  },
  "language_info": {
   "codemirror_mode": {
    "name": "ipython",
    "version": 3
   },
   "file_extension": ".py",
   "mimetype": "text/x-python",
   "name": "python",
   "nbconvert_exporter": "python",
   "pygments_lexer": "ipython3",
   "version": "3.10.6"
  },
  "orig_nbformat": 4,
  "vscode": {
   "interpreter": {
    "hash": "aee8b7b246df8f9039afb4144a1f6fd8d2ca17a180786b69acc140d282b71a49"
   }
  }
 },
 "nbformat": 4,
 "nbformat_minor": 2
}
