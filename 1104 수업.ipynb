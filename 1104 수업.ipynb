{
 "cells": [
  {
   "cell_type": "code",
   "execution_count": null,
   "metadata": {},
   "outputs": [],
   "source": [
    "#횟수 제어 반복\n",
    "for 변수 in \"asd\"\n",
    "for 변수 in [1,2,3] #=(1,4)\n",
    "\n",
    "#조건 제어 반복 -> 특정 조건을 만족하면 계속해서 반복\n",
    "\n",
    "while 조건문 : # 3==3\n",
    "    반복할 명령 # print(\"같다.\")\n",
    "    \n",
    "while True : #무한반복\n",
    "    \n",
    "check = True\n",
    "count = 0\n",
    "while check :\n",
    "    count += 1\n",
    "    \n",
    "    if count == 10 :\n",
    "        break #check = False도 가능\n",
    "    \n",
    "for i in range(1,11) :\n",
    "    print(i)\n",
    "    \n",
    "    \n",
    "count = 0\n",
    "while count < 10 :\n",
    "    count += 1\n",
    "    print(count)\n",
    "    \n",
    "    \n",
    "# 계속해서 사용자한테 숫자 2개를 입력받을 것임.\n",
    "# 그 두 숫자를 더한 값을 돌려줄 것임\n",
    "# 단 사용자가 0,0을 입력하면 종료시킬 것임..\n",
    "\n",
    "check = True\n",
    "while check :\n",
    "    a, b = map(int, input().split()) # print(sum(list(map(int, input().split()))))\n",
    "   \n",
    "    if a == 0 and b == 0 :\n",
    "        check = False\n",
    "    else :\n",
    "        print(a+b)"
   ]
  },
  {
   "cell_type": "code",
   "execution_count": 8,
   "metadata": {},
   "outputs": [
    {
     "name": "stdout",
     "output_type": "stream",
     "text": [
      "4\n"
     ]
    }
   ],
   "source": [
    "#1110\n",
    "\n",
    "count = 0\n",
    "n = str(input())\n",
    "next = n\n",
    "\n",
    "while True :\n",
    "    \n",
    "    if len(next) < 2 : \n",
    "        next = \"0\" + next #한 자리수일 경우 앞에 0을 붙인다.\n",
    "    sumnext = int(next[0]) + int(next[1]) # 각자리수 더하기\n",
    "    next = next[1] + str(sumnext%10) # 더한 값을 오른쪽에 밀어붙이기\n",
    "    count += 1 # 사이클 한 번 돌았음!\n",
    "    \n",
    "    if next == n : \n",
    "        print(count)\n",
    "        break\n",
    "\n"
   ]
  },
  {
   "cell_type": "code",
   "execution_count": null,
   "metadata": {},
   "outputs": [],
   "source": [
    "\n",
    "\n"
   ]
  }
 ],
 "metadata": {
  "kernelspec": {
   "display_name": "Python 3.10.6 64-bit",
   "language": "python",
   "name": "python3"
  },
  "language_info": {
   "codemirror_mode": {
    "name": "ipython",
    "version": 3
   },
   "file_extension": ".py",
   "mimetype": "text/x-python",
   "name": "python",
   "nbconvert_exporter": "python",
   "pygments_lexer": "ipython3",
   "version": "3.10.6"
  },
  "orig_nbformat": 4,
  "vscode": {
   "interpreter": {
    "hash": "aee8b7b246df8f9039afb4144a1f6fd8d2ca17a180786b69acc140d282b71a49"
   }
  }
 },
 "nbformat": 4,
 "nbformat_minor": 2
}
