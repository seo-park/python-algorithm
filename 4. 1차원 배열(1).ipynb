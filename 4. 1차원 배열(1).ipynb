{
 "cells": [
  {
   "cell_type": "code",
   "execution_count": 3,
   "metadata": {},
   "outputs": [
    {
     "name": "stdout",
     "output_type": "stream",
     "text": [
      "1\n"
     ]
    }
   ],
   "source": [
    "#10807\n",
    "\n",
    "n = int(input())\n",
    "ints = list(map(int, input().split()))\n",
    "v = int(input())\n",
    "\n",
    "print(ints.count(v)) #count 함수"
   ]
  },
  {
   "cell_type": "code",
   "execution_count": null,
   "metadata": {},
   "outputs": [],
   "source": [
    "#10871\n",
    "\n",
    "n, x = map(int, input().split())\n",
    "a_elements = list(map(int, input().split()))\n",
    "\n",
    "for i in range(n) :\n",
    "    if a_elements[i] < x :\n",
    "        print(a_elements[i], end=\" \")\n",
    "        #a_elements 중 i보다 작은 숫자를 end=\" \"를 통해 한 칸씩 띄어서 출력한다."
   ]
  },
  {
   "cell_type": "code",
   "execution_count": 9,
   "metadata": {},
   "outputs": [
    {
     "ename": "TypeError",
     "evalue": "'list' object is not callable",
     "output_type": "error",
     "traceback": [
      "\u001b[0;31m---------------------------------------------------------------------------\u001b[0m",
      "\u001b[0;31mTypeError\u001b[0m                                 Traceback (most recent call last)",
      "Cell \u001b[0;32mIn [9], line 4\u001b[0m\n\u001b[1;32m      1\u001b[0m \u001b[38;5;66;03m#10818\u001b[39;00m\n\u001b[1;32m      3\u001b[0m n \u001b[38;5;241m=\u001b[39m \u001b[38;5;28mint\u001b[39m(\u001b[38;5;28minput\u001b[39m())\n\u001b[0;32m----> 4\u001b[0m \u001b[38;5;28mlist\u001b[39m \u001b[38;5;241m=\u001b[39m \u001b[38;5;28;43mlist\u001b[39;49m\u001b[43m(\u001b[49m\u001b[38;5;28;43mmap\u001b[39;49m\u001b[43m(\u001b[49m\u001b[38;5;28;43mint\u001b[39;49m\u001b[43m,\u001b[49m\u001b[43m \u001b[49m\u001b[38;5;28;43minput\u001b[39;49m\u001b[43m(\u001b[49m\u001b[43m)\u001b[49m\u001b[38;5;241;43m.\u001b[39;49m\u001b[43msplit\u001b[49m\u001b[43m(\u001b[49m\u001b[43m)\u001b[49m\u001b[43m)\u001b[49m\u001b[43m)\u001b[49m\n\u001b[1;32m      5\u001b[0m so \u001b[38;5;241m=\u001b[39m \u001b[38;5;28mmin\u001b[39m(\u001b[38;5;28mlist\u001b[39m)\n\u001b[1;32m      6\u001b[0m dae \u001b[38;5;241m=\u001b[39m \u001b[38;5;28mmax\u001b[39m(\u001b[38;5;28mlist\u001b[39m)\n",
      "\u001b[0;31mTypeError\u001b[0m: 'list' object is not callable"
     ]
    }
   ],
   "source": [
    "#10818\n",
    "\n",
    "n = int(input())\n",
    "list = list(map(int, input().split()))\n",
    "so = min(list)\n",
    "dae = max(list)\n",
    "\n",
    "print(so, dae)\n",
    "# 여기서는 안되는데 백준에서는 맞았다고 나옴. 왜지?"
   ]
  },
  {
   "cell_type": "code",
   "execution_count": 14,
   "metadata": {},
   "outputs": [
    {
     "name": "stdout",
     "output_type": "stream",
     "text": [
      "29\n",
      "2\n"
     ]
    }
   ],
   "source": [
    "#2562\n",
    "\n",
    "# numbers = list(map(int, input().splitlines()))\n",
    "# splitlines는 쓰면 안됨?\n",
    "\n",
    "numbers = []\n",
    "for i in range(1, 10) : #반복문을 써서 줄바꿈 입력 반복하기\n",
    "    numbers.append(int(input()))\n",
    "    \n",
    "dae = max(numbers)\n",
    "\n",
    "print(dae)\n",
    "print(numbers.index(dae)+1)"
   ]
  },
  {
   "cell_type": "code",
   "execution_count": null,
   "metadata": {},
   "outputs": [],
   "source": [
    "#5597\n",
    "\n",
    "#1~30까지 출석부 생성\n",
    "studentIdx = [i for i in range(1,31)]\n",
    "\n",
    "# 28의 학생들이 과제를 제출한다. (2명 제외)\n",
    "for i in range(28) :\n",
    "    report = int(input())\n",
    "    # 입력받은 숫자들은 출석부에서 제거\n",
    "    studentIdx.remove(report)\n",
    "    \n",
    "print(min(studentIdx))\n",
    "print(max(studentIdx))"
   ]
  }
 ],
 "metadata": {
  "kernelspec": {
   "display_name": "Python 3.10.6 64-bit",
   "language": "python",
   "name": "python3"
  },
  "language_info": {
   "codemirror_mode": {
    "name": "ipython",
    "version": 3
   },
   "file_extension": ".py",
   "mimetype": "text/x-python",
   "name": "python",
   "nbconvert_exporter": "python",
   "pygments_lexer": "ipython3",
   "version": "3.10.6"
  },
  "orig_nbformat": 4,
  "vscode": {
   "interpreter": {
    "hash": "aee8b7b246df8f9039afb4144a1f6fd8d2ca17a180786b69acc140d282b71a49"
   }
  }
 },
 "nbformat": 4,
 "nbformat_minor": 2
}
