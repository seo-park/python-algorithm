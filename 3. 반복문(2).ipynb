{
 "cells": [
  {
   "cell_type": "code",
   "execution_count": 9,
   "metadata": {},
   "outputs": [
    {
     "name": "stdout",
     "output_type": "stream",
     "text": [
      "2\n",
      "5\n"
     ]
    }
   ],
   "source": [
    "#10952\n",
    "\n",
    "while True :\n",
    "    a, b = map(int, input().split())\n",
    "    if a == 0 and b == 0 :\n",
    "        break\n",
    "    else :\n",
    "        print(a+b)"
   ]
  },
  {
   "cell_type": "code",
   "execution_count": 11,
   "metadata": {},
   "outputs": [
    {
     "name": "stdout",
     "output_type": "stream",
     "text": [
      "2\n",
      "4\n"
     ]
    }
   ],
   "source": [
    "#10951\n",
    "\n",
    "while True :\n",
    "    try :\n",
    "        a, b = map(int, input().split())\n",
    "    except :\n",
    "        break\n",
    "    print(a+b)"
   ]
  },
  {
   "cell_type": "code",
   "execution_count": 28,
   "metadata": {},
   "outputs": [
    {
     "name": "stdout",
     "output_type": "stream",
     "text": [
      "60\n"
     ]
    }
   ],
   "source": [
    "#1110\n",
    "\n",
    "# n이 주어짐.\n",
    "# n이 한자리수일 경우 앞에 0을 붙여준다.\n",
    "# n의 각 자리수를 더해준다.\n",
    "# 사이클 +1\n",
    "# 원래 수와 같아지면 break와 동시에 사이클 횟수를 보여준다.\n",
    "\n",
    "n = str(input())\n",
    "if len(n) == 1 :\n",
    "    n = \"0\" + n\n",
    "next = n\n",
    "cycle = 0\n",
    "\n",
    "    \n",
    "while True :\n",
    "    \n",
    "    if len(next) == 1 : #n은 바뀌면 안됨.\n",
    "        next = \"0\" + n\n",
    "    \n",
    "    sumnext = int(next[0]) + int(next[1])\n",
    "    next = next[1] + str(sumnext%10)\n",
    "    cycle += 1\n",
    "    \n",
    "    if next == n :\n",
    "        print(cycle)\n",
    "        break\n"
   ]
  }
 ],
 "metadata": {
  "kernelspec": {
   "display_name": "Python 3.10.6 64-bit",
   "language": "python",
   "name": "python3"
  },
  "language_info": {
   "codemirror_mode": {
    "name": "ipython",
    "version": 3
   },
   "file_extension": ".py",
   "mimetype": "text/x-python",
   "name": "python",
   "nbconvert_exporter": "python",
   "pygments_lexer": "ipython3",
   "version": "3.10.6"
  },
  "orig_nbformat": 4,
  "vscode": {
   "interpreter": {
    "hash": "aee8b7b246df8f9039afb4144a1f6fd8d2ca17a180786b69acc140d282b71a49"
   }
  }
 },
 "nbformat": 4,
 "nbformat_minor": 2
}
